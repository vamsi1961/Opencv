{
  "nbformat": 4,
  "nbformat_minor": 0,
  "metadata": {
    "colab": {
      "name": "Operators.ipynb",
      "provenance": []
    },
    "kernelspec": {
      "name": "python3",
      "display_name": "Python 3"
    },
    "language_info": {
      "name": "python"
    }
  },
  "cells": [
    {
      "cell_type": "code",
      "metadata": {
        "id": "A6EiqLMAv97C"
      },
      "source": [
        "import cv2\n",
        "from google.colab.patches import cv2_imshow"
      ],
      "execution_count": null,
      "outputs": []
    },
    {
      "cell_type": "code",
      "metadata": {
        "colab": {
          "base_uri": "https://localhost:8080/",
          "height": 267
        },
        "id": "-vqVuGu2wuOa",
        "outputId": "73ae0728-c6ce-4e68-fcb8-390d57ee49c9"
      },
      "source": [
        "image_back=cv2.imread(\"/content/image_back.png\")\n",
        "image_circle=cv2.imread(\"/content/image_circle.png\")\n",
        "cv2_imshow(image_back)"
      ],
      "execution_count": null,
      "outputs": [
        {
          "output_type": "display_data",
          "data": {
            "image/png": "[encoded data removed]",
            "text/plain": [
              "<PIL.Image.Image image mode=RGB size=499x250 at 0x7FAF404F46D0>"
            ]
          },
          "metadata": {
            "tags": []
          }
        }
      ]
    },
    {
      "cell_type": "code",
      "metadata": {
        "colab": {
          "base_uri": "https://localhost:8080/",
          "height": 267
        },
        "id": "75ME2hXVwy7r",
        "outputId": "7d2e2f84-4ed5-4b46-84f2-d2058917d3cf"
      },
      "source": [
        "cv2_imshow(image_circle)"
      ],
      "execution_count": null,
      "outputs": [
        {
          "output_type": "display_data",
          "data": {
            "image/png": "[encoded data removed]",
            "text/plain": [
              "<PIL.Image.Image image mode=RGB size=499x250 at 0x7FAF40471B50>"
            ]
          },
          "metadata": {
            "tags": []
          }
        }
      ]
    },
    {
      "cell_type": "code",
      "metadata": {
        "colab": {
          "base_uri": "https://localhost:8080/",
          "height": 267
        },
        "id": "mOI3TNonwzpb",
        "outputId": "d703bf66-5f2e-46d9-a2e6-2825a88ff78d"
      },
      "source": [
        "image_and=cv2.bitwise_and(image_back,image_circle,mask=None)\n",
        "cv2_imshow(image_and)"
      ],
      "execution_count": null,
      "outputs": [
        {
          "output_type": "display_data",
          "data": {
            "image/png": "[encoded data removed]",
            "text/plain": [
              "<PIL.Image.Image image mode=RGB size=499x250 at 0x7FAF40481150>"
            ]
          },
          "metadata": {
            "tags": []
          }
        }
      ]
    },
    {
      "cell_type": "code",
      "metadata": {
        "colab": {
          "base_uri": "https://localhost:8080/",
          "height": 267
        },
        "id": "awDFBMNdw743",
        "outputId": "27d8b1b7-ab6e-4714-98de-2f6c39375215"
      },
      "source": [
        "image_or=cv2.bitwise_or(image_back,image_circle,mask=None)\n",
        "cv2_imshow(image_or)"
      ],
      "execution_count": null,
      "outputs": [
        {
          "output_type": "display_data",
          "data": {
            "image/png": "[encoded data removed]",
            "text/plain": [
              "<PIL.Image.Image image mode=RGB size=499x250 at 0x7FAF40481A10>"
            ]
          },
          "metadata": {
            "tags": []
          }
        }
      ]
    },
    {
      "cell_type": "code",
      "metadata": {
        "colab": {
          "base_uri": "https://localhost:8080/",
          "height": 267
        },
        "id": "GIggjbzLw-gV",
        "outputId": "6a92b31c-dab3-4879-c630-f41b91523fbd"
      },
      "source": [
        "image_not_circle=cv2.bitwise_not(image_circle,mask=None)\n",
        "cv2_imshow(image_not_circle)"
      ],
      "execution_count": null,
      "outputs": [
        {
          "output_type": "display_data",
          "data": {
            "image/png": "[encoded data removed]",
            "text/plain": [
              "<PIL.Image.Image image mode=RGB size=499x250 at 0x7FAF40486250>"
            ]
          },
          "metadata": {
            "tags": []
          }
        }
      ]
    }
  ]
}